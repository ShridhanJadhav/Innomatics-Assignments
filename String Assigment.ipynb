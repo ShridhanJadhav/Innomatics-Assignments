{
 "cells": [
  {
   "cell_type": "markdown",
   "id": "09b71024",
   "metadata": {},
   "source": [
    "##### string A string is a data structure in Python that represents a sequence of characters. It is an immutable data type, meaning that once you have created a string, you cannot change it. Strings are used widely in many different applications, such as storing and manipulating text data, representing names, addresses, and other types of data that can be represented as text."
   ]
  },
  {
   "cell_type": "markdown",
   "id": "021b9916",
   "metadata": {},
   "source": [
    "##### Strings in Python can be created using single quotes or double quotes or even triple quotes. "
   ]
  },
  {
   "cell_type": "code",
   "execution_count": 17,
   "id": "89e4039e",
   "metadata": {},
   "outputs": [],
   "source": [
    "x=('welcome to the innomatics') # string in single quotes"
   ]
  },
  {
   "cell_type": "code",
   "execution_count": 18,
   "id": "89566a4a",
   "metadata": {},
   "outputs": [
    {
     "name": "stdout",
     "output_type": "stream",
     "text": [
      "welcome to the innomatics\n"
     ]
    }
   ],
   "source": [
    "print(x)"
   ]
  },
  {
   "cell_type": "code",
   "execution_count": 19,
   "id": "1c49d80e",
   "metadata": {},
   "outputs": [],
   "source": [
    "x=(\"welcome to the innomatics\") #string in double quotes"
   ]
  },
  {
   "cell_type": "code",
   "execution_count": 20,
   "id": "fb656a72",
   "metadata": {},
   "outputs": [
    {
     "name": "stdout",
     "output_type": "stream",
     "text": [
      "welcome to the innomatics\n"
     ]
    }
   ],
   "source": [
    "print(x)"
   ]
  },
  {
   "cell_type": "code",
   "execution_count": 21,
   "id": "3d7d9a06",
   "metadata": {},
   "outputs": [],
   "source": [
    "x=('''welcome to the innomatics''') #string in triple quotes"
   ]
  },
  {
   "cell_type": "code",
   "execution_count": 22,
   "id": "5befdcb6",
   "metadata": {},
   "outputs": [
    {
     "name": "stdout",
     "output_type": "stream",
     "text": [
      "welcome to the innomatics\n"
     ]
    }
   ],
   "source": [
    "print(x)"
   ]
  },
  {
   "cell_type": "markdown",
   "id": "1c793b48",
   "metadata": {},
   "source": [
    "##### Indexing is basically the numerical values given to every character present in the string in a sequential manner.    \n",
    "  * indexing is of two types\n",
    "    *   positive indexing      <b> string[start value:stop value:step count] \n",
    "    \n",
    "     1]start_value represents the value from where the slicing should start.    \n",
    "  \n",
    "    2]stop_value represents the value of ending the silicing.\n",
    "    \n",
    "    3]step_count represents the no.of values should be skipped intermediate\n",
    "    \n",
    "      *     Negative Indexing\n",
    "    \n",
    "\n",
    "                                                                                                    "
   ]
  },
  {
   "cell_type": "code",
   "execution_count": 26,
   "id": "05e80844",
   "metadata": {},
   "outputs": [
    {
     "data": {
      "text/plain": [
       "'welcome t'"
      ]
     },
     "execution_count": 26,
     "metadata": {},
     "output_type": "execute_result"
    }
   ],
   "source": [
    "x[0:9] #positve indexing"
   ]
  },
  {
   "cell_type": "code",
   "execution_count": 33,
   "id": "ad3d40dd",
   "metadata": {},
   "outputs": [
    {
     "data": {
      "text/plain": [
       "' the innom'"
      ]
     },
     "execution_count": 33,
     "metadata": {},
     "output_type": "execute_result"
    }
   ],
   "source": [
    "x[-15:-5] #Negative indexing"
   ]
  },
  {
   "cell_type": "code",
   "execution_count": 1,
   "id": "e389b53f",
   "metadata": {},
   "outputs": [],
   "source": [
    "x=\"welcome to \""
   ]
  },
  {
   "cell_type": "code",
   "execution_count": 2,
   "id": "597ced56",
   "metadata": {},
   "outputs": [
    {
     "data": {
      "text/plain": [
       "['__add__',\n",
       " '__class__',\n",
       " '__contains__',\n",
       " '__delattr__',\n",
       " '__dir__',\n",
       " '__doc__',\n",
       " '__eq__',\n",
       " '__format__',\n",
       " '__ge__',\n",
       " '__getattribute__',\n",
       " '__getitem__',\n",
       " '__getnewargs__',\n",
       " '__getstate__',\n",
       " '__gt__',\n",
       " '__hash__',\n",
       " '__init__',\n",
       " '__init_subclass__',\n",
       " '__iter__',\n",
       " '__le__',\n",
       " '__len__',\n",
       " '__lt__',\n",
       " '__mod__',\n",
       " '__mul__',\n",
       " '__ne__',\n",
       " '__new__',\n",
       " '__reduce__',\n",
       " '__reduce_ex__',\n",
       " '__repr__',\n",
       " '__rmod__',\n",
       " '__rmul__',\n",
       " '__setattr__',\n",
       " '__sizeof__',\n",
       " '__str__',\n",
       " '__subclasshook__',\n",
       " 'capitalize',\n",
       " 'casefold',\n",
       " 'center',\n",
       " 'count',\n",
       " 'encode',\n",
       " 'endswith',\n",
       " 'expandtabs',\n",
       " 'find',\n",
       " 'format',\n",
       " 'format_map',\n",
       " 'index',\n",
       " 'isalnum',\n",
       " 'isalpha',\n",
       " 'isascii',\n",
       " 'isdecimal',\n",
       " 'isdigit',\n",
       " 'isidentifier',\n",
       " 'islower',\n",
       " 'isnumeric',\n",
       " 'isprintable',\n",
       " 'isspace',\n",
       " 'istitle',\n",
       " 'isupper',\n",
       " 'join',\n",
       " 'ljust',\n",
       " 'lower',\n",
       " 'lstrip',\n",
       " 'maketrans',\n",
       " 'partition',\n",
       " 'removeprefix',\n",
       " 'removesuffix',\n",
       " 'replace',\n",
       " 'rfind',\n",
       " 'rindex',\n",
       " 'rjust',\n",
       " 'rpartition',\n",
       " 'rsplit',\n",
       " 'rstrip',\n",
       " 'split',\n",
       " 'splitlines',\n",
       " 'startswith',\n",
       " 'strip',\n",
       " 'swapcase',\n",
       " 'title',\n",
       " 'translate',\n",
       " 'upper',\n",
       " 'zfill']"
      ]
     },
     "execution_count": 2,
     "metadata": {},
     "output_type": "execute_result"
    }
   ],
   "source": [
    "dir(x)"
   ]
  },
  {
   "cell_type": "markdown",
   "id": "4ec9a32a",
   "metadata": {},
   "source": [
    "##### length;-   Returns the length of the given string  len( )"
   ]
  },
  {
   "cell_type": "code",
   "execution_count": 35,
   "id": "aa03bc18",
   "metadata": {},
   "outputs": [
    {
     "data": {
      "text/plain": [
       "25"
      ]
     },
     "execution_count": 35,
     "metadata": {},
     "output_type": "execute_result"
    }
   ],
   "source": [
    "len(x)"
   ]
  },
  {
   "cell_type": "markdown",
   "id": "6b489c51",
   "metadata": {},
   "source": [
    "##### str. title( )   returns the string with the first letter of every word in the string in uppercase and  rest in lowercase"
   ]
  },
  {
   "cell_type": "code",
   "execution_count": 80,
   "id": "6804d6f0",
   "metadata": {},
   "outputs": [],
   "source": [
    "x='welcome to the innomatics'"
   ]
  },
  {
   "cell_type": "code",
   "execution_count": 81,
   "id": "891886b1",
   "metadata": {},
   "outputs": [
    {
     "name": "stdout",
     "output_type": "stream",
     "text": [
      "Help on built-in function title:\n",
      "\n",
      "title() method of builtins.str instance\n",
      "    Return a version of the string where each word is titlecased.\n",
      "    \n",
      "    More specifically, words start with uppercased characters and all remaining\n",
      "    cased characters have lower case.\n",
      "\n"
     ]
    }
   ],
   "source": [
    "help(x.title)"
   ]
  },
  {
   "cell_type": "code",
   "execution_count": 82,
   "id": "8ccc3890",
   "metadata": {},
   "outputs": [
    {
     "data": {
      "text/plain": [
       "'Welcome To The Innomatics'"
      ]
     },
     "execution_count": 82,
     "metadata": {},
     "output_type": "execute_result"
    }
   ],
   "source": [
    "x.title()"
   ]
  },
  {
   "cell_type": "markdown",
   "id": "a3f50da6",
   "metadata": {},
   "source": [
    "#### Lower returns the string with all uppercase letters converted to lowercase"
   ]
  },
  {
   "cell_type": "code",
   "execution_count": 83,
   "id": "529ead6d",
   "metadata": {},
   "outputs": [
    {
     "data": {
      "text/plain": [
       "'welcome to the innomatics'"
      ]
     },
     "execution_count": 83,
     "metadata": {},
     "output_type": "execute_result"
    }
   ],
   "source": [
    "x.lower()"
   ]
  },
  {
   "cell_type": "code",
   "execution_count": 84,
   "id": "a41cffce",
   "metadata": {},
   "outputs": [
    {
     "name": "stdout",
     "output_type": "stream",
     "text": [
      "Help on built-in function lower:\n",
      "\n",
      "lower() method of builtins.str instance\n",
      "    Return a copy of the string converted to lowercase.\n",
      "\n"
     ]
    }
   ],
   "source": [
    "help(x.lower)"
   ]
  },
  {
   "cell_type": "markdown",
   "id": "d750745e",
   "metadata": {},
   "source": [
    "#####  upper returns strings with all lowercase converted into upper case"
   ]
  },
  {
   "cell_type": "code",
   "execution_count": 85,
   "id": "7e71c41e",
   "metadata": {},
   "outputs": [
    {
     "name": "stdout",
     "output_type": "stream",
     "text": [
      "Help on built-in function upper:\n",
      "\n",
      "upper() method of builtins.str instance\n",
      "    Return a copy of the string converted to uppercase.\n",
      "\n"
     ]
    }
   ],
   "source": [
    " help(x.upper)"
   ]
  },
  {
   "cell_type": "code",
   "execution_count": 100,
   "id": "7a11503c",
   "metadata": {},
   "outputs": [
    {
     "name": "stdout",
     "output_type": "stream",
     "text": [
      "CLASSROOM RULES\n"
     ]
    }
   ],
   "source": [
    "print(x.upper())"
   ]
  },
  {
   "cell_type": "markdown",
   "id": "07303f40",
   "metadata": {},
   "source": [
    "#####  Capitalize :-Convert the first character of a string to uppercase"
   ]
  },
  {
   "cell_type": "code",
   "execution_count": 95,
   "id": "f728cf40",
   "metadata": {},
   "outputs": [],
   "source": [
    "x='classroom rules'"
   ]
  },
  {
   "cell_type": "code",
   "execution_count": 96,
   "id": "2a2d7cc1",
   "metadata": {},
   "outputs": [
    {
     "name": "stdout",
     "output_type": "stream",
     "text": [
      "Help on built-in function capitalize:\n",
      "\n",
      "capitalize() method of builtins.str instance\n",
      "    Return a capitalized version of the string.\n",
      "    \n",
      "    More specifically, make the first character have upper case and the rest lower\n",
      "    case.\n",
      "\n"
     ]
    }
   ],
   "source": [
    "help(x.capitalize)"
   ]
  },
  {
   "cell_type": "code",
   "execution_count": 97,
   "id": "d6d6cdf3",
   "metadata": {},
   "outputs": [
    {
     "data": {
      "text/plain": [
       "'Classroom rules'"
      ]
     },
     "execution_count": 97,
     "metadata": {},
     "output_type": "execute_result"
    }
   ],
   "source": [
    "x.capitalize()"
   ]
  },
  {
   "cell_type": "markdown",
   "id": "62401564",
   "metadata": {},
   "source": [
    "##### Swapcase;=Converts all uppercase characters to lowercase and vice versa"
   ]
  },
  {
   "cell_type": "code",
   "execution_count": 99,
   "id": "acfa7240",
   "metadata": {},
   "outputs": [
    {
     "name": "stdout",
     "output_type": "stream",
     "text": [
      "CLASSROOM RULES\n"
     ]
    }
   ],
   "source": [
    "print(x.swapcase())"
   ]
  },
  {
   "cell_type": "code",
   "execution_count": 2,
   "id": "225019e0",
   "metadata": {},
   "outputs": [],
   "source": [
    "x='CLASSROOM RULES'"
   ]
  },
  {
   "cell_type": "code",
   "execution_count": 3,
   "id": "39d0cd80",
   "metadata": {},
   "outputs": [
    {
     "name": "stdout",
     "output_type": "stream",
     "text": [
      "classroom rules\n"
     ]
    }
   ],
   "source": [
    "print(x.swapcase())"
   ]
  },
  {
   "cell_type": "code",
   "execution_count": 4,
   "id": "ff198b97",
   "metadata": {},
   "outputs": [
    {
     "name": "stdout",
     "output_type": "stream",
     "text": [
      "Help on built-in function swapcase:\n",
      "\n",
      "swapcase() method of builtins.str instance\n",
      "    Convert uppercase characters to lowercase and lowercase characters to uppercase.\n",
      "\n"
     ]
    }
   ],
   "source": [
    "help(x.swapcase)"
   ]
  },
  {
   "cell_type": "markdown",
   "id": "9dbe99bb",
   "metadata": {},
   "source": [
    "#####  REPLACE:- Replaces all occurrences of a substring with another substring"
   ]
  },
  {
   "cell_type": "code",
   "execution_count": 5,
   "id": "17589a7e",
   "metadata": {},
   "outputs": [
    {
     "name": "stdout",
     "output_type": "stream",
     "text": [
      "Help on built-in function replace:\n",
      "\n",
      "replace(old, new, count=-1, /) method of builtins.str instance\n",
      "    Return a copy with all occurrences of substring old replaced by new.\n",
      "    \n",
      "      count\n",
      "        Maximum number of occurrences to replace.\n",
      "        -1 (the default value) means replace all occurrences.\n",
      "    \n",
      "    If the optional argument count is given, only the first count occurrences are\n",
      "    replaced.\n",
      "\n"
     ]
    }
   ],
   "source": [
    "help(x.replace)"
   ]
  },
  {
   "cell_type": "code",
   "execution_count": 18,
   "id": "9011546c",
   "metadata": {},
   "outputs": [
    {
     "ename": "TypeError",
     "evalue": "replace expected at least 2 arguments, got 1",
     "output_type": "error",
     "traceback": [
      "\u001b[1;31m---------------------------------------------------------------------------\u001b[0m",
      "\u001b[1;31mTypeError\u001b[0m                                 Traceback (most recent call last)",
      "Cell \u001b[1;32mIn[18], line 1\u001b[0m\n\u001b[1;32m----> 1\u001b[0m x\u001b[38;5;241m.\u001b[39mreplace(\u001b[38;5;124m'\u001b[39m\u001b[38;5;124mru\u001b[39m\u001b[38;5;124m'\u001b[39m)\n",
      "\u001b[1;31mTypeError\u001b[0m: replace expected at least 2 arguments, got 1"
     ]
    }
   ],
   "source": [
    "x.replace('ru')"
   ]
  },
  {
   "cell_type": "markdown",
   "id": "138da936",
   "metadata": {},
   "source": [
    "#### find() method finds the first occurrence of the specified value.The find() method returns -1 if the value is not found "
   ]
  },
  {
   "cell_type": "code",
   "execution_count": 3,
   "id": "958fbb17",
   "metadata": {},
   "outputs": [],
   "source": [
    "bb='Betty Botter bought some But she said the butter’s bitterIf I put it in my batter, it will make my batter bitterBut a bit of better butter will make my batter betterSo ‘twas better Betty Botter bought a bit of better butter'"
   ]
  },
  {
   "cell_type": "code",
   "execution_count": 4,
   "id": "d2b9a776",
   "metadata": {},
   "outputs": [
    {
     "name": "stdout",
     "output_type": "stream",
     "text": [
      "Help on built-in function find:\n",
      "\n",
      "find(...) method of builtins.str instance\n",
      "    S.find(sub[, start[, end]]) -> int\n",
      "    \n",
      "    Return the lowest index in S where substring sub is found,\n",
      "    such that sub is contained within S[start:end].  Optional\n",
      "    arguments start and end are interpreted as in slice notation.\n",
      "    \n",
      "    Return -1 on failure.\n",
      "\n"
     ]
    }
   ],
   "source": [
    "help(bb.find)"
   ]
  },
  {
   "cell_type": "code",
   "execution_count": 56,
   "id": "52f9f701",
   "metadata": {},
   "outputs": [
    {
     "data": {
      "text/plain": [
       "75"
      ]
     },
     "execution_count": 56,
     "metadata": {},
     "output_type": "execute_result"
    }
   ],
   "source": [
    "bb.find(\"batter\")\n"
   ]
  },
  {
   "cell_type": "code",
   "execution_count": 57,
   "id": "8c532eec",
   "metadata": {},
   "outputs": [
    {
     "data": {
      "text/plain": [
       "72"
      ]
     },
     "execution_count": 57,
     "metadata": {},
     "output_type": "execute_result"
    }
   ],
   "source": [
    "bb.find('my')"
   ]
  },
  {
   "cell_type": "code",
   "execution_count": 58,
   "id": "b4432a45",
   "metadata": {},
   "outputs": [
    {
     "data": {
      "text/plain": [
       "-1"
      ]
     },
     "execution_count": 58,
     "metadata": {},
     "output_type": "execute_result"
    }
   ],
   "source": [
    "bb.find('zz')"
   ]
  },
  {
   "cell_type": "markdown",
   "id": "de67585f",
   "metadata": {},
   "source": [
    "#### rfind Searches the string for a specified value and returns the last position of where it was found"
   ]
  },
  {
   "cell_type": "code",
   "execution_count": 59,
   "id": "e3880dde",
   "metadata": {},
   "outputs": [
    {
     "name": "stdout",
     "output_type": "stream",
     "text": [
      "Help on built-in function rfind:\n",
      "\n",
      "rfind(...) method of builtins.str instance\n",
      "    S.rfind(sub[, start[, end]]) -> int\n",
      "    \n",
      "    Return the highest index in S where substring sub is found,\n",
      "    such that sub is contained within S[start:end].  Optional\n",
      "    arguments start and end are interpreted as in slice notation.\n",
      "    \n",
      "    Return -1 on failure.\n",
      "\n"
     ]
    }
   ],
   "source": [
    "help(bb.rfind)"
   ]
  },
  {
   "cell_type": "code",
   "execution_count": 60,
   "id": "4acacbf9",
   "metadata": {},
   "outputs": [
    {
     "data": {
      "text/plain": [
       "217"
      ]
     },
     "execution_count": 60,
     "metadata": {},
     "output_type": "execute_result"
    }
   ],
   "source": [
    "bb.rfind('butter')"
   ]
  },
  {
   "cell_type": "code",
   "execution_count": 61,
   "id": "74fd4a22",
   "metadata": {},
   "outputs": [
    {
     "data": {
      "text/plain": [
       "-1"
      ]
     },
     "execution_count": 61,
     "metadata": {},
     "output_type": "execute_result"
    }
   ],
   "source": [
    "bb.rfind('zzz')"
   ]
  },
  {
   "cell_type": "code",
   "execution_count": 62,
   "id": "38a0e715",
   "metadata": {},
   "outputs": [
    {
     "data": {
      "text/plain": [
       "-1"
      ]
     },
     "execution_count": 62,
     "metadata": {},
     "output_type": "execute_result"
    }
   ],
   "source": [
    "bb.rfind('is')"
   ]
  },
  {
   "cell_type": "markdown",
   "id": "6a1b2075",
   "metadata": {},
   "source": [
    "#####  SPLITLINE Splits the string at line breaks and returns a list\n",
    "#### split() \n"
   ]
  },
  {
   "cell_type": "code",
   "execution_count": 8,
   "id": "fd9957db",
   "metadata": {},
   "outputs": [],
   "source": [
    "tt='Betty Botter bought some butterBut she said the butter’s bitterIf I put it in my batter, it will make my batter bitterBut a bit of better butter will make my batter betterSo ‘twas better Betty Botter bought a bit of better butter'"
   ]
  },
  {
   "cell_type": "code",
   "execution_count": 9,
   "id": "5046a073",
   "metadata": {},
   "outputs": [
    {
     "data": {
      "text/plain": [
       "['Betty Botter bought some butterBut she said the butter’s bitterIf I put it in my batter, it will make my batter bitterBut a bit of better butter will make my batter betterSo ‘twas better Betty Botter bought a bit of better butter']"
      ]
     },
     "execution_count": 9,
     "metadata": {},
     "output_type": "execute_result"
    }
   ],
   "source": [
    "tt.splitlines()"
   ]
  },
  {
   "cell_type": "code",
   "execution_count": 65,
   "id": "c408eb5b",
   "metadata": {},
   "outputs": [
    {
     "data": {
      "text/plain": [
       "['Betty',\n",
       " 'Botter',\n",
       " 'bought',\n",
       " 'some',\n",
       " 'But',\n",
       " 'she',\n",
       " 'said',\n",
       " 'the',\n",
       " 'butter’s',\n",
       " 'bitterIf',\n",
       " 'I',\n",
       " 'put',\n",
       " 'it',\n",
       " 'in',\n",
       " 'my',\n",
       " 'batter,',\n",
       " 'it',\n",
       " 'will',\n",
       " 'make',\n",
       " 'my',\n",
       " 'batter',\n",
       " 'bitterBut',\n",
       " 'a',\n",
       " 'bit',\n",
       " 'of',\n",
       " 'better',\n",
       " 'butter',\n",
       " 'will',\n",
       " 'make',\n",
       " 'my',\n",
       " 'batter',\n",
       " 'betterSo',\n",
       " '‘twas',\n",
       " 'better',\n",
       " 'Betty',\n",
       " 'Botter',\n",
       " 'bought',\n",
       " 'a',\n",
       " 'bit',\n",
       " 'of',\n",
       " 'better',\n",
       " 'butter']"
      ]
     },
     "execution_count": 65,
     "metadata": {},
     "output_type": "execute_result"
    }
   ],
   "source": [
    "bb.split()"
   ]
  },
  {
   "cell_type": "code",
   "execution_count": 64,
   "id": "4ac4a5b2",
   "metadata": {},
   "outputs": [
    {
     "name": "stdout",
     "output_type": "stream",
     "text": [
      "['Betty Botter bought some But she said the butter’s bitterIf I put it in my batter, it will make my batter bitterBut a bit of better butter will make my batter betterSo ‘twas better Betty Botter bought a bit of better butter']\n"
     ]
    }
   ],
   "source": [
    "x=bb.splitlines()\n",
    "print(bb.splitlines())"
   ]
  },
  {
   "cell_type": "markdown",
   "id": "895dff86",
   "metadata": {},
   "source": [
    "#####  ISALNUM ;-Checks whether all the characters in a given string is alphanumeric or not        alphanumeric:-consisting of or using both letters and numerals."
   ]
  },
  {
   "cell_type": "code",
   "execution_count": 66,
   "id": "5d01dc79",
   "metadata": {},
   "outputs": [
    {
     "data": {
      "text/plain": [
       "False"
      ]
     },
     "execution_count": 66,
     "metadata": {},
     "output_type": "execute_result"
    }
   ],
   "source": [
    "bb.isalnum()"
   ]
  },
  {
   "cell_type": "code",
   "execution_count": 67,
   "id": "746ec9ed",
   "metadata": {},
   "outputs": [
    {
     "name": "stdout",
     "output_type": "stream",
     "text": [
      "Help on built-in function isalnum:\n",
      "\n",
      "isalnum() method of builtins.str instance\n",
      "    Return True if the string is an alpha-numeric string, False otherwise.\n",
      "    \n",
      "    A string is alpha-numeric if all characters in the string are alpha-numeric and\n",
      "    there is at least one character in the string.\n",
      "\n"
     ]
    }
   ],
   "source": [
    "help(bb.isalnum)"
   ]
  },
  {
   "cell_type": "code",
   "execution_count": 68,
   "id": "212c2d53",
   "metadata": {},
   "outputs": [],
   "source": [
    "a='amreen786'"
   ]
  },
  {
   "cell_type": "code",
   "execution_count": 69,
   "id": "a6431f50",
   "metadata": {},
   "outputs": [
    {
     "data": {
      "text/plain": [
       "True"
      ]
     },
     "execution_count": 69,
     "metadata": {},
     "output_type": "execute_result"
    }
   ],
   "source": [
    "a.isalnum()"
   ]
  },
  {
   "cell_type": "markdown",
   "id": "744eb10d",
   "metadata": {},
   "source": [
    "##### ISALPHA;-Returns “True” if all characters in the string are alphabets"
   ]
  },
  {
   "cell_type": "code",
   "execution_count": 70,
   "id": "626f8b0a",
   "metadata": {},
   "outputs": [
    {
     "data": {
      "text/plain": [
       "False"
      ]
     },
     "execution_count": 70,
     "metadata": {},
     "output_type": "execute_result"
    }
   ],
   "source": [
    "a.isalpha()"
   ]
  },
  {
   "cell_type": "code",
   "execution_count": 71,
   "id": "4685f3ff",
   "metadata": {},
   "outputs": [
    {
     "data": {
      "text/plain": [
       "False"
      ]
     },
     "execution_count": 71,
     "metadata": {},
     "output_type": "execute_result"
    }
   ],
   "source": [
    "bb.isalpha()"
   ]
  },
  {
   "cell_type": "code",
   "execution_count": 72,
   "id": "4036e493",
   "metadata": {},
   "outputs": [
    {
     "name": "stdout",
     "output_type": "stream",
     "text": [
      "Help on built-in function isalpha:\n",
      "\n",
      "isalpha() method of builtins.str instance\n",
      "    Return True if the string is an alphabetic string, False otherwise.\n",
      "    \n",
      "    A string is alphabetic if all characters in the string are alphabetic and there\n",
      "    is at least one character in the string.\n",
      "\n"
     ]
    }
   ],
   "source": [
    "help(a.isalpha)"
   ]
  },
  {
   "cell_type": "markdown",
   "id": "112835b4",
   "metadata": {},
   "source": [
    "##### ISDECIMAL:-Returns “True” if all characters in the string are alphabets"
   ]
  },
  {
   "cell_type": "code",
   "execution_count": 73,
   "id": "dc617f9e",
   "metadata": {},
   "outputs": [
    {
     "name": "stdout",
     "output_type": "stream",
     "text": [
      "Help on built-in function isdecimal:\n",
      "\n",
      "isdecimal() method of builtins.str instance\n",
      "    Return True if the string is a decimal string, False otherwise.\n",
      "    \n",
      "    A string is a decimal string if all characters in the string are decimal and\n",
      "    there is at least one character in the string.\n",
      "\n"
     ]
    }
   ],
   "source": [
    "help(bb.isdecimal)"
   ]
  },
  {
   "cell_type": "code",
   "execution_count": 74,
   "id": "6452b996",
   "metadata": {},
   "outputs": [
    {
     "data": {
      "text/plain": [
       "False"
      ]
     },
     "execution_count": 74,
     "metadata": {},
     "output_type": "execute_result"
    }
   ],
   "source": [
    "bb.isdecimal()"
   ]
  },
  {
   "cell_type": "markdown",
   "id": "4303dab1",
   "metadata": {},
   "source": [
    "##### ISDIGIT :-Returns “True” if all characters in the string are digits"
   ]
  },
  {
   "cell_type": "code",
   "execution_count": 75,
   "id": "bf115686",
   "metadata": {},
   "outputs": [
    {
     "data": {
      "text/plain": [
       "False"
      ]
     },
     "execution_count": 75,
     "metadata": {},
     "output_type": "execute_result"
    }
   ],
   "source": [
    "a.isdigit()"
   ]
  },
  {
   "cell_type": "code",
   "execution_count": 76,
   "id": "04ce7ca1",
   "metadata": {},
   "outputs": [
    {
     "name": "stdout",
     "output_type": "stream",
     "text": [
      "Help on built-in function isdigit:\n",
      "\n",
      "isdigit() method of builtins.str instance\n",
      "    Return True if the string is a digit string, False otherwise.\n",
      "    \n",
      "    A string is a digit string if all characters in the string are digits and there\n",
      "    is at least one character in the string.\n",
      "\n"
     ]
    }
   ],
   "source": [
    "help(a.isdigit)"
   ]
  },
  {
   "cell_type": "markdown",
   "id": "2755bdfe",
   "metadata": {},
   "source": [
    "##### ISNUMERIC Returns “True” if all characters in the string are numeric characters"
   ]
  },
  {
   "cell_type": "code",
   "execution_count": 77,
   "id": "c937b9c1",
   "metadata": {},
   "outputs": [
    {
     "name": "stdout",
     "output_type": "stream",
     "text": [
      "Help on built-in function isnumeric:\n",
      "\n",
      "isnumeric() method of builtins.str instance\n",
      "    Return True if the string is a numeric string, False otherwise.\n",
      "    \n",
      "    A string is numeric if all characters in the string are numeric and there is at\n",
      "    least one character in the string.\n",
      "\n"
     ]
    }
   ],
   "source": [
    "help(a.isnumeric)"
   ]
  },
  {
   "cell_type": "code",
   "execution_count": 78,
   "id": "8fc3b2e5",
   "metadata": {},
   "outputs": [
    {
     "name": "stdout",
     "output_type": "stream",
     "text": [
      "False\n"
     ]
    }
   ],
   "source": [
    "print(a.isnumeric())"
   ]
  },
  {
   "cell_type": "markdown",
   "id": "84dba08a",
   "metadata": {},
   "source": [
    "##### ISLOWER  Checks if all characters in the string are lowercase"
   ]
  },
  {
   "cell_type": "code",
   "execution_count": 79,
   "id": "c8b7d35a",
   "metadata": {},
   "outputs": [
    {
     "data": {
      "text/plain": [
       "False"
      ]
     },
     "execution_count": 79,
     "metadata": {},
     "output_type": "execute_result"
    }
   ],
   "source": [
    "bb.islower()"
   ]
  },
  {
   "cell_type": "markdown",
   "id": "efd8dadf",
   "metadata": {},
   "source": [
    "##### ISIDENTIFIER   Check whether a string is a valid identifier or not"
   ]
  },
  {
   "cell_type": "code",
   "execution_count": 80,
   "id": "856f0d9d",
   "metadata": {},
   "outputs": [
    {
     "data": {
      "text/plain": [
       "False"
      ]
     },
     "execution_count": 80,
     "metadata": {},
     "output_type": "execute_result"
    }
   ],
   "source": [
    "bb.isidentifier()"
   ]
  },
  {
   "cell_type": "code",
   "execution_count": 81,
   "id": "833206e9",
   "metadata": {},
   "outputs": [],
   "source": [
    "c=\"innomatics\""
   ]
  },
  {
   "cell_type": "code",
   "execution_count": 82,
   "id": "362f145f",
   "metadata": {},
   "outputs": [
    {
     "data": {
      "text/plain": [
       "True"
      ]
     },
     "execution_count": 82,
     "metadata": {},
     "output_type": "execute_result"
    }
   ],
   "source": [
    "c.isidentifier()"
   ]
  },
  {
   "cell_type": "markdown",
   "id": "858ae102",
   "metadata": {},
   "source": [
    "#### # ISPRINTABLE Returns “True” if all characters in the string are printable or the string is empty"
   ]
  },
  {
   "cell_type": "code",
   "execution_count": 83,
   "id": "21978ff0",
   "metadata": {},
   "outputs": [],
   "source": [
    "s=\"\""
   ]
  },
  {
   "cell_type": "code",
   "execution_count": 84,
   "id": "a2d02323",
   "metadata": {},
   "outputs": [
    {
     "data": {
      "text/plain": [
       "True"
      ]
     },
     "execution_count": 84,
     "metadata": {},
     "output_type": "execute_result"
    }
   ],
   "source": [
    "s.isprintable()"
   ]
  },
  {
   "cell_type": "code",
   "execution_count": 85,
   "id": "e2022112",
   "metadata": {},
   "outputs": [
    {
     "data": {
      "text/plain": [
       "True"
      ]
     },
     "execution_count": 85,
     "metadata": {},
     "output_type": "execute_result"
    }
   ],
   "source": [
    "c.isprintable()"
   ]
  },
  {
   "cell_type": "markdown",
   "id": "a69ea303",
   "metadata": {},
   "source": [
    "#####  ISSPACE Returns “True” if all characters in the string are whitespace characters"
   ]
  },
  {
   "cell_type": "code",
   "execution_count": 86,
   "id": "6b4a9540",
   "metadata": {},
   "outputs": [
    {
     "data": {
      "text/plain": [
       "False"
      ]
     },
     "execution_count": 86,
     "metadata": {},
     "output_type": "execute_result"
    }
   ],
   "source": [
    "s.isspace()"
   ]
  },
  {
   "cell_type": "code",
   "execution_count": 87,
   "id": "2ddfa49e",
   "metadata": {},
   "outputs": [
    {
     "data": {
      "text/plain": [
       "False"
      ]
     },
     "execution_count": 87,
     "metadata": {},
     "output_type": "execute_result"
    }
   ],
   "source": [
    "bb.isspace()"
   ]
  },
  {
   "cell_type": "code",
   "execution_count": 88,
   "id": "aeaf3c5c",
   "metadata": {},
   "outputs": [
    {
     "data": {
      "text/plain": [
       "False"
      ]
     },
     "execution_count": 88,
     "metadata": {},
     "output_type": "execute_result"
    }
   ],
   "source": [
    "c.isspace()"
   ]
  },
  {
   "cell_type": "code",
   "execution_count": 101,
   "id": "21febfc4",
   "metadata": {},
   "outputs": [
    {
     "data": {
      "text/plain": [
       "False"
      ]
     },
     "execution_count": 101,
     "metadata": {},
     "output_type": "execute_result"
    }
   ],
   "source": [
    "a='Python Is High Programming Language'\n",
    "a.isspace()"
   ]
  },
  {
   "cell_type": "markdown",
   "id": "de552699",
   "metadata": {},
   "source": [
    "##### ISTITLE Returns “True” if the string is a title cased string"
   ]
  },
  {
   "cell_type": "code",
   "execution_count": 97,
   "id": "ee82d7ba",
   "metadata": {},
   "outputs": [
    {
     "data": {
      "text/plain": [
       "False"
      ]
     },
     "execution_count": 97,
     "metadata": {},
     "output_type": "execute_result"
    }
   ],
   "source": [
    "s.istitle()"
   ]
  },
  {
   "cell_type": "code",
   "execution_count": 98,
   "id": "a265f20f",
   "metadata": {},
   "outputs": [
    {
     "data": {
      "text/plain": [
       "False"
      ]
     },
     "execution_count": 98,
     "metadata": {},
     "output_type": "execute_result"
    }
   ],
   "source": [
    "bb.istitle()"
   ]
  },
  {
   "cell_type": "code",
   "execution_count": 105,
   "id": "0b5cfebd",
   "metadata": {},
   "outputs": [],
   "source": [
    "a='BANANA'"
   ]
  },
  {
   "cell_type": "code",
   "execution_count": 106,
   "id": "4b6f7f99",
   "metadata": {},
   "outputs": [
    {
     "data": {
      "text/plain": [
       "False"
      ]
     },
     "execution_count": 106,
     "metadata": {},
     "output_type": "execute_result"
    }
   ],
   "source": [
    "a.istitle()"
   ]
  },
  {
   "cell_type": "markdown",
   "id": "036c7862",
   "metadata": {},
   "source": [
    "#####  ISUPPER Checks if all characters in the string are uppercase"
   ]
  },
  {
   "cell_type": "code",
   "execution_count": 107,
   "id": "267968a3",
   "metadata": {},
   "outputs": [
    {
     "data": {
      "text/plain": [
       "True"
      ]
     },
     "execution_count": 107,
     "metadata": {},
     "output_type": "execute_result"
    }
   ],
   "source": [
    "a.isupper()"
   ]
  },
  {
   "cell_type": "code",
   "execution_count": 110,
   "id": "f8ee4692",
   "metadata": {},
   "outputs": [
    {
     "name": "stdout",
     "output_type": "stream",
     "text": [
      "True\n"
     ]
    }
   ],
   "source": [
    "print(a.isupper())"
   ]
  },
  {
   "cell_type": "code",
   "execution_count": null,
   "id": "142174f5",
   "metadata": {},
   "outputs": [],
   "source": []
  },
  {
   "cell_type": "code",
   "execution_count": null,
   "id": "1c9e4f9c",
   "metadata": {},
   "outputs": [],
   "source": []
  },
  {
   "cell_type": "code",
   "execution_count": null,
   "id": "55f603df",
   "metadata": {},
   "outputs": [],
   "source": []
  },
  {
   "cell_type": "code",
   "execution_count": null,
   "id": "81600e0a",
   "metadata": {},
   "outputs": [],
   "source": []
  },
  {
   "cell_type": "code",
   "execution_count": null,
   "id": "e3c7d48e",
   "metadata": {},
   "outputs": [],
   "source": []
  },
  {
   "cell_type": "code",
   "execution_count": null,
   "id": "c25f1825",
   "metadata": {},
   "outputs": [],
   "source": []
  }
 ],
 "metadata": {
  "kernelspec": {
   "display_name": "Python 3 (ipykernel)",
   "language": "python",
   "name": "python3"
  },
  "language_info": {
   "codemirror_mode": {
    "name": "ipython",
    "version": 3
   },
   "file_extension": ".py",
   "mimetype": "text/x-python",
   "name": "python",
   "nbconvert_exporter": "python",
   "pygments_lexer": "ipython3",
   "version": "3.11.3"
  }
 },
 "nbformat": 4,
 "nbformat_minor": 5
}
