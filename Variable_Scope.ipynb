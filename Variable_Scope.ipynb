{
 "cells": [
  {
   "cell_type": "markdown",
   "id": "878ee8b7",
   "metadata": {},
   "source": [
    "## <u>Variable Scope :-\n",
    "* A variable is only available from inside the region it is created. This is called scope."
   ]
  },
  {
   "cell_type": "markdown",
   "id": "739d343e",
   "metadata": {},
   "source": [
    "<b> There are 4 types of Variable Scope in Python,"
   ]
  },
  {
   "cell_type": "markdown",
   "id": "e2fd1283",
   "metadata": {},
   "source": [
    "1. Local Variable\n",
    "2. Globle Variable\n",
    "3. Enclosed variable\n",
    "4. Built-in variable"
   ]
  },
  {
   "attachments": {
    "image.png": {
     "image/png": "[encoded data removed]"
    }
   },
   "cell_type": "markdown",
   "id": "313fb251",
   "metadata": {},
   "source": [
    "![image.png](attachment:image.png)"
   ]
  },
  {
   "cell_type": "markdown",
   "id": "5ff7e4aa",
   "metadata": {},
   "source": [
    "### 1. Local Variables"
   ]
  },
  {
   "cell_type": "markdown",
   "id": "ed761529",
   "metadata": {},
   "source": [
    "![](https://data-flair.training/blogs/wp-content/uploads/sites/2/2018/02/Scopes-01.jpg)"
   ]
  },
  {
   "cell_type": "markdown",
   "id": "d22e8c7f",
   "metadata": {},
   "source": [
    "* Local scope refers to the names which are defined within a function and are local to that function. They can be accessed from the point of its definition until the end of the block in which it has been defined. The local scope exists till the time the function has been executed."
   ]
  },
  {
   "cell_type": "code",
   "execution_count": 8,
   "id": "12e90f11",
   "metadata": {},
   "outputs": [
    {
     "name": "stdout",
     "output_type": "stream",
     "text": [
      "Shridhan\n"
     ]
    }
   ],
   "source": [
    "def func():\n",
    "    a = \"Shridhan\"\n",
    "    print(a) # will print the string stored in variable a\n",
    " \n",
    "func()\n",
    "# print(a) # nameError will be thrown as b exists only in func()'s local scop"
   ]
  },
  {
   "cell_type": "markdown",
   "id": "1ba220d9",
   "metadata": {},
   "source": [
    "### 2. Globle Variables "
   ]
  },
  {
   "cell_type": "markdown",
   "id": "5252ff47",
   "metadata": {},
   "source": [
    "* Global scope refers to the names of variables which are defined in the main body of a program. These are visible and accessed throughout the program. The variables or objects declared in the global scope are easily accessible to all functions within the program."
   ]
  },
  {
   "cell_type": "code",
   "execution_count": 10,
   "id": "1e352b5e",
   "metadata": {},
   "outputs": [
    {
     "name": "stdout",
     "output_type": "stream",
     "text": [
      "inside func1  10\n",
      "at local global scope  10\n"
     ]
    }
   ],
   "source": [
    "a = 10\n",
    "def func1():\n",
    "   print(\"inside func1 \", a)  # as a does not exist in the local scope of func1(), according to the LEGB rule, the interpreter looked into the global scope\n",
    " \n",
    "func1()\n",
    "print(\"at local global scope \", a)"
   ]
  },
  {
   "cell_type": "markdown",
   "id": "cdfb43a7",
   "metadata": {},
   "source": [
    "### 3. Enclosed Variables"
   ]
  },
  {
   "cell_type": "markdown",
   "id": "03161f93",
   "metadata": {},
   "source": [
    "* Enclosing scope is also known as non-local scope. They refer to the names of a variable defined in the nested function. Simply put, these variables are neither present in the local scope nor in the global scope. To create a non-local variable in an enclosing scope, use a non-local keyword."
   ]
  },
  {
   "cell_type": "code",
   "execution_count": 11,
   "id": "a8657578",
   "metadata": {},
   "outputs": [
    {
     "name": "stdout",
     "output_type": "stream",
     "text": [
      "10\n"
     ]
    }
   ],
   "source": [
    "def func1():\n",
    "   a = 10\n",
    "   def func2():\n",
    "       print(a)\n",
    "   func2()\n",
    "func1()"
   ]
  },
  {
   "cell_type": "markdown",
   "id": "a4f6b889",
   "metadata": {},
   "source": [
    "### 4. Built-in variables"
   ]
  },
  {
   "cell_type": "markdown",
   "id": "88d1222a",
   "metadata": {},
   "source": [
    "* When the variable or object is not found in local, global, or enclosing scope, then Python starts looking for it in the built-in scope. Built-in scopes are one of the widest scopes that cover all the reserved keywords. These are easy to call anywhere in the program prior to using them, without the need to define them.\n",
    "\n"
   ]
  },
  {
   "cell_type": "code",
   "execution_count": 12,
   "id": "6fcb1610",
   "metadata": {},
   "outputs": [
    {
     "name": "stdout",
     "output_type": "stream",
     "text": [
      "func2  20\n",
      "func1  10\n"
     ]
    }
   ],
   "source": [
    "def func1():\n",
    "   a = 10\n",
    "   def func2():\n",
    "       a = 20\n",
    "       print('func2 ', a)\n",
    "   func2()\n",
    "   print('func1 ', a)\n",
    "func1()"
   ]
  },
  {
   "cell_type": "code",
   "execution_count": null,
   "id": "df6f3e85",
   "metadata": {},
   "outputs": [],
   "source": []
  }
 ],
 "metadata": {
  "kernelspec": {
   "display_name": "Python 3 (ipykernel)",
   "language": "python",
   "name": "python3"
  },
  "language_info": {
   "codemirror_mode": {
    "name": "ipython",
    "version": 3
   },
   "file_extension": ".py",
   "mimetype": "text/x-python",
   "name": "python",
   "nbconvert_exporter": "python",
   "pygments_lexer": "ipython3",
   "version": "3.11.3"
  }
 },
 "nbformat": 4,
 "nbformat_minor": 5
}
