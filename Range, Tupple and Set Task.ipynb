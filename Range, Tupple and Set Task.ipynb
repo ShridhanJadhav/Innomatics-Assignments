{
 "cells": [
  {
   "cell_type": "markdown",
   "id": "6ee2d917",
   "metadata": {},
   "source": [
    "# <u> 1. Range"
   ]
  },
  {
   "cell_type": "markdown",
   "id": "0987eec2",
   "metadata": {},
   "source": [
    "* The range() function returns a sequence of numbers, starting from 0 by default, and increments by 1 (by default), and stops before a specified number.\n",
    "* Syntax:- range(start, stop, step)\n",
    "* Start :- start position (Default 0)\n",
    "* Stop :- end position (Given Number)\n",
    "* Step :- stepping (Default +1) "
   ]
  },
  {
   "cell_type": "code",
   "execution_count": 3,
   "id": "6a947456",
   "metadata": {},
   "outputs": [
    {
     "data": {
      "text/plain": [
       "range(0, 6)"
      ]
     },
     "execution_count": 3,
     "metadata": {},
     "output_type": "execute_result"
    }
   ],
   "source": [
    "x= range(6)\n",
    "x"
   ]
  },
  {
   "cell_type": "code",
   "execution_count": 10,
   "id": "57d38b0c",
   "metadata": {},
   "outputs": [
    {
     "data": {
      "text/plain": [
       "[1, 2, 3, 4, 5, 6, 7, 8, 9]"
      ]
     },
     "execution_count": 10,
     "metadata": {},
     "output_type": "execute_result"
    }
   ],
   "source": [
    "x=list(range(1,10))\n",
    "x\n"
   ]
  },
  {
   "cell_type": "code",
   "execution_count": 11,
   "id": "eb29290b",
   "metadata": {},
   "outputs": [
    {
     "data": {
      "text/plain": [
       "[1, 3, 5, 7, 9]"
      ]
     },
     "execution_count": 11,
     "metadata": {},
     "output_type": "execute_result"
    }
   ],
   "source": [
    "x=list(range(1,10,2))\n",
    "x"
   ]
  },
  {
   "cell_type": "code",
   "execution_count": 12,
   "id": "afc2d745",
   "metadata": {},
   "outputs": [
    {
     "data": {
      "text/plain": [
       "[-1, -2, -3, -4, -5, -6, -7, -8, -9, -10]"
      ]
     },
     "execution_count": 12,
     "metadata": {},
     "output_type": "execute_result"
    }
   ],
   "source": [
    "x=list(range(-1,-11,-1))\n",
    "x"
   ]
  },
  {
   "cell_type": "markdown",
   "id": "ad0bc15d",
   "metadata": {},
   "source": [
    "# <u> 2. Tuple"
   ]
  },
  {
   "cell_type": "markdown",
   "id": "94709a93",
   "metadata": {},
   "source": [
    "* Tuples are used to store multiple items in a single variable.\n",
    "* A tuple is a collection which is ordered and unchangeable.\n",
    "* Tuples are written with round brackets.\n",
    "* Tuple items are ordered, unchangeable, and allow duplicate values.\n",
    "* Tuple items are indexed, the first item has index [0], the second item has index [1] etc.\n",
    "* Tuples are heterogenous in nature.\n",
    "* When we say that tuples are ordered, it means that the items have a defined order, and that order will not change.\n",
    "* Tuples are unchangeable, meaning that we cannot change, add or remove items after the tuple has been created."
   ]
  },
  {
   "cell_type": "code",
   "execution_count": 18,
   "id": "3d75662a",
   "metadata": {},
   "outputs": [
    {
     "name": "stdout",
     "output_type": "stream",
     "text": [
      "('h', 'e', 'l', 'l', 'o')\n",
      "5\n"
     ]
    }
   ],
   "source": [
    "a=tuple(\"hello\")\n",
    "print(a)\n",
    "print(len(a))"
   ]
  },
  {
   "cell_type": "markdown",
   "id": "13792d6a",
   "metadata": {},
   "source": [
    "* Tuples are heterogenous in nature."
   ]
  },
  {
   "cell_type": "code",
   "execution_count": 19,
   "id": "fd461cb6",
   "metadata": {},
   "outputs": [
    {
     "data": {
      "text/plain": [
       "tuple"
      ]
     },
     "execution_count": 19,
     "metadata": {},
     "output_type": "execute_result"
    }
   ],
   "source": [
    "a=(1,2,3,3+3j,False,print,str)\n",
    "type(a)"
   ]
  },
  {
   "cell_type": "code",
   "execution_count": 20,
   "id": "d6aac450",
   "metadata": {},
   "outputs": [
    {
     "data": {
      "text/plain": [
       "2"
      ]
     },
     "execution_count": 20,
     "metadata": {},
     "output_type": "execute_result"
    }
   ],
   "source": [
    "a[1]"
   ]
  },
  {
   "cell_type": "code",
   "execution_count": 21,
   "id": "b90709ac",
   "metadata": {},
   "outputs": [
    {
     "data": {
      "text/plain": [
       "str"
      ]
     },
     "execution_count": 21,
     "metadata": {},
     "output_type": "execute_result"
    }
   ],
   "source": [
    "a[-1]"
   ]
  },
  {
   "cell_type": "code",
   "execution_count": 26,
   "id": "821ce95b",
   "metadata": {},
   "outputs": [
    {
     "name": "stdout",
     "output_type": "stream",
     "text": [
      "(1, 3, False, <class 'str'>)\n"
     ]
    }
   ],
   "source": [
    "b=a[::2]\n",
    "print(b)"
   ]
  },
  {
   "cell_type": "markdown",
   "id": "e18a79cd",
   "metadata": {},
   "source": [
    "### Methods in tuple"
   ]
  },
  {
   "cell_type": "code",
   "execution_count": 77,
   "id": "59cac0d4",
   "metadata": {},
   "outputs": [
    {
     "name": "stdout",
     "output_type": "stream",
     "text": [
      "['__add__', '__class__', '__class_getitem__', '__contains__', '__delattr__', '__dir__', '__doc__', '__eq__', '__format__', '__ge__', '__getattribute__', '__getitem__', '__getnewargs__', '__getstate__', '__gt__', '__hash__', '__init__', '__init_subclass__', '__iter__', '__le__', '__len__', '__lt__', '__mul__', '__ne__', '__new__', '__reduce__', '__reduce_ex__', '__repr__', '__rmul__', '__setattr__', '__sizeof__', '__str__', '__subclasshook__', 'count', 'index']\n"
     ]
    }
   ],
   "source": [
    "print(dir(tuple))"
   ]
  },
  {
   "cell_type": "markdown",
   "id": "4e8ecbb1",
   "metadata": {},
   "source": [
    "### A. Index()"
   ]
  },
  {
   "cell_type": "markdown",
   "id": "e61d9040",
   "metadata": {},
   "source": [
    "* The Index() method returns the first occurrence of the given element from the tuple.\n",
    "* Syntax :- tuple.index(element, start, end)"
   ]
  },
  {
   "cell_type": "code",
   "execution_count": 27,
   "id": "b6f10d07",
   "metadata": {},
   "outputs": [],
   "source": [
    "c=(1,2,3,4,1,2,3,4)"
   ]
  },
  {
   "cell_type": "code",
   "execution_count": 29,
   "id": "2a8c73e2",
   "metadata": {},
   "outputs": [
    {
     "data": {
      "text/plain": [
       "1"
      ]
     },
     "execution_count": 29,
     "metadata": {},
     "output_type": "execute_result"
    }
   ],
   "source": [
    "c.index(2)\n"
   ]
  },
  {
   "cell_type": "markdown",
   "id": "60acae25",
   "metadata": {},
   "source": [
    "### B. Count()"
   ]
  },
  {
   "cell_type": "markdown",
   "id": "e7257f48",
   "metadata": {},
   "source": [
    "* The count() method of Tuple returns the number of times the given element appears in the tuple.\n",
    "* Syntax :- tuple.count(element)"
   ]
  },
  {
   "cell_type": "code",
   "execution_count": 33,
   "id": "bccff1b2",
   "metadata": {},
   "outputs": [],
   "source": [
    "c=(1,2,3,4,1,2,3,4)"
   ]
  },
  {
   "cell_type": "code",
   "execution_count": 34,
   "id": "9a17d227",
   "metadata": {
    "scrolled": true
   },
   "outputs": [
    {
     "data": {
      "text/plain": [
       "2"
      ]
     },
     "execution_count": 34,
     "metadata": {},
     "output_type": "execute_result"
    }
   ],
   "source": [
    "c.count(4)"
   ]
  },
  {
   "cell_type": "markdown",
   "id": "c78231e4",
   "metadata": {},
   "source": [
    "# <u>3. Set"
   ]
  },
  {
   "cell_type": "markdown",
   "id": "28de65e6",
   "metadata": {},
   "source": [
    "* sets are unordered, cluster, heterogenous  in nature\n",
    "* set are mutable in nature\n",
    "* takes iterator as an input.\n",
    "* when set formed they do'nt entrtain duplicates.\n",
    "* sets are unordered, we cannot access items using indexes as we do in lists.\n"
   ]
  },
  {
   "cell_type": "markdown",
   "id": "f9c928d0",
   "metadata": {},
   "source": [
    "* <b> Set are represented by { } (values enclosed in curly braces)"
   ]
  },
  {
   "cell_type": "code",
   "execution_count": 35,
   "id": "4db8baaf",
   "metadata": {},
   "outputs": [
    {
     "data": {
      "text/plain": [
       "set"
      ]
     },
     "execution_count": 35,
     "metadata": {},
     "output_type": "execute_result"
    }
   ],
   "source": [
    "a={1,2,3}\n",
    "type(a)"
   ]
  },
  {
   "cell_type": "code",
   "execution_count": 36,
   "id": "99875957",
   "metadata": {},
   "outputs": [
    {
     "data": {
      "text/plain": [
       "{1, 2, 3}"
      ]
     },
     "execution_count": 36,
     "metadata": {},
     "output_type": "execute_result"
    }
   ],
   "source": [
    "a={1,2,3,1,2,3} # Python sets cannot have a duplicate value and once it is created we cannot change its value\n",
    "a"
   ]
  },
  {
   "cell_type": "code",
   "execution_count": 38,
   "id": "f061c655",
   "metadata": {},
   "outputs": [
    {
     "data": {
      "text/plain": [
       "{0, 1, 2, 3}"
      ]
     },
     "execution_count": 38,
     "metadata": {},
     "output_type": "execute_result"
    }
   ],
   "source": [
    "a={0,1,2,3,False, True} # Here True and False denotes 1 and 0.\n",
    "a"
   ]
  },
  {
   "cell_type": "markdown",
   "id": "124f2449",
   "metadata": {},
   "source": [
    "###  Methods in set"
   ]
  },
  {
   "cell_type": "code",
   "execution_count": 39,
   "id": "83fa2371",
   "metadata": {},
   "outputs": [
    {
     "name": "stdout",
     "output_type": "stream",
     "text": [
      "['__and__', '__class__', '__class_getitem__', '__contains__', '__delattr__', '__dir__', '__doc__', '__eq__', '__format__', '__ge__', '__getattribute__', '__getstate__', '__gt__', '__hash__', '__iand__', '__init__', '__init_subclass__', '__ior__', '__isub__', '__iter__', '__ixor__', '__le__', '__len__', '__lt__', '__ne__', '__new__', '__or__', '__rand__', '__reduce__', '__reduce_ex__', '__repr__', '__ror__', '__rsub__', '__rxor__', '__setattr__', '__sizeof__', '__str__', '__sub__', '__subclasshook__', '__xor__', 'add', 'clear', 'copy', 'difference', 'difference_update', 'discard', 'intersection', 'intersection_update', 'isdisjoint', 'issubset', 'issuperset', 'pop', 'remove', 'symmetric_difference', 'symmetric_difference_update', 'union', 'update']\n"
     ]
    }
   ],
   "source": [
    "print(dir(set))"
   ]
  },
  {
   "cell_type": "markdown",
   "id": "041e4889",
   "metadata": {},
   "source": [
    "### A. .add()"
   ]
  },
  {
   "cell_type": "markdown",
   "id": "e9a714c1",
   "metadata": {},
   "source": [
    "* Adds an element to the set"
   ]
  },
  {
   "cell_type": "code",
   "execution_count": 41,
   "id": "763f5be2",
   "metadata": {},
   "outputs": [],
   "source": [
    "a={1,2,3}"
   ]
  },
  {
   "cell_type": "code",
   "execution_count": 42,
   "id": "3bdb4d82",
   "metadata": {},
   "outputs": [
    {
     "data": {
      "text/plain": [
       "{1, 2, 3, 4}"
      ]
     },
     "execution_count": 42,
     "metadata": {},
     "output_type": "execute_result"
    }
   ],
   "source": [
    "a.add(4)\n",
    "a"
   ]
  },
  {
   "cell_type": "markdown",
   "id": "44262b5d",
   "metadata": {},
   "source": [
    "### B. Update()"
   ]
  },
  {
   "cell_type": "markdown",
   "id": "d4093bfc",
   "metadata": {},
   "source": [
    "* Update the set with another set, or any other iterable"
   ]
  },
  {
   "cell_type": "code",
   "execution_count": 44,
   "id": "a8ac5a56",
   "metadata": {},
   "outputs": [],
   "source": [
    "a={1,2,3}\n"
   ]
  },
  {
   "cell_type": "code",
   "execution_count": 46,
   "id": "64547a83",
   "metadata": {
    "scrolled": true
   },
   "outputs": [
    {
     "data": {
      "text/plain": [
       "{1, 2, 3, 5, 6}"
      ]
     },
     "execution_count": 46,
     "metadata": {},
     "output_type": "execute_result"
    }
   ],
   "source": [
    "a.update([5,6])\n",
    "a"
   ]
  },
  {
   "cell_type": "markdown",
   "id": "bb58c869",
   "metadata": {},
   "source": [
    "### C. Remove()"
   ]
  },
  {
   "cell_type": "markdown",
   "id": "ab1be181",
   "metadata": {},
   "source": [
    "* Removes the specified element"
   ]
  },
  {
   "cell_type": "code",
   "execution_count": 58,
   "id": "c2e23eea",
   "metadata": {},
   "outputs": [],
   "source": [
    "a={1, 2, 3, 5, 6}"
   ]
  },
  {
   "cell_type": "code",
   "execution_count": 59,
   "id": "a86c17e7",
   "metadata": {},
   "outputs": [],
   "source": [
    "a.remove(3)"
   ]
  },
  {
   "cell_type": "code",
   "execution_count": 60,
   "id": "2d8217e8",
   "metadata": {},
   "outputs": [
    {
     "data": {
      "text/plain": [
       "{1, 2, 5, 6}"
      ]
     },
     "execution_count": 60,
     "metadata": {},
     "output_type": "execute_result"
    }
   ],
   "source": [
    "a"
   ]
  },
  {
   "cell_type": "code",
   "execution_count": 64,
   "id": "2d53fb3b",
   "metadata": {},
   "outputs": [
    {
     "ename": "KeyError",
     "evalue": "8",
     "output_type": "error",
     "traceback": [
      "\u001b[1;31m---------------------------------------------------------------------------\u001b[0m",
      "\u001b[1;31mKeyError\u001b[0m                                  Traceback (most recent call last)",
      "Cell \u001b[1;32mIn[64], line 1\u001b[0m\n\u001b[1;32m----> 1\u001b[0m a\u001b[38;5;241m.\u001b[39mremove(\u001b[38;5;241m8\u001b[39m)\n",
      "\u001b[1;31mKeyError\u001b[0m: 8"
     ]
    }
   ],
   "source": [
    "a.remove(8)"
   ]
  },
  {
   "cell_type": "markdown",
   "id": "3f5dfd67",
   "metadata": {},
   "source": [
    "### D. Discard"
   ]
  },
  {
   "cell_type": "markdown",
   "id": "8878cb13",
   "metadata": {},
   "source": [
    "* Remove the specified item"
   ]
  },
  {
   "cell_type": "code",
   "execution_count": 61,
   "id": "9310ca77",
   "metadata": {},
   "outputs": [
    {
     "data": {
      "text/plain": [
       "{1, 2, 5, 6}"
      ]
     },
     "execution_count": 61,
     "metadata": {},
     "output_type": "execute_result"
    }
   ],
   "source": [
    "a"
   ]
  },
  {
   "cell_type": "code",
   "execution_count": 62,
   "id": "d04a7894",
   "metadata": {},
   "outputs": [],
   "source": [
    "a.discard(5)"
   ]
  },
  {
   "cell_type": "code",
   "execution_count": 63,
   "id": "9aff9d67",
   "metadata": {},
   "outputs": [
    {
     "data": {
      "text/plain": [
       "{1, 2, 6}"
      ]
     },
     "execution_count": 63,
     "metadata": {},
     "output_type": "execute_result"
    }
   ],
   "source": [
    "a"
   ]
  },
  {
   "cell_type": "code",
   "execution_count": 66,
   "id": "913c92ef",
   "metadata": {},
   "outputs": [],
   "source": [
    "a.discard(8)"
   ]
  },
  {
   "cell_type": "code",
   "execution_count": 67,
   "id": "811c5e84",
   "metadata": {},
   "outputs": [
    {
     "data": {
      "text/plain": [
       "{1, 2, 6}"
      ]
     },
     "execution_count": 67,
     "metadata": {},
     "output_type": "execute_result"
    }
   ],
   "source": [
    "a"
   ]
  },
  {
   "cell_type": "markdown",
   "id": "a89d839c",
   "metadata": {},
   "source": [
    "* <b> Remove and discard doing same functionality.\n",
    "* <b> when we give value to remove which is not in set it gives error.\n",
    "* <b> when we give value to discard which is not in set it gives same set"
   ]
  },
  {
   "cell_type": "markdown",
   "id": "804e2815",
   "metadata": {},
   "source": [
    "### E. Pop()"
   ]
  },
  {
   "cell_type": "markdown",
   "id": "2f7c9c47",
   "metadata": {},
   "source": [
    "* Returns and removes a random element from the set"
   ]
  },
  {
   "cell_type": "code",
   "execution_count": 69,
   "id": "84456d3b",
   "metadata": {},
   "outputs": [],
   "source": [
    "a={1,2,3,4,5}"
   ]
  },
  {
   "cell_type": "code",
   "execution_count": 70,
   "id": "1af7ae8e",
   "metadata": {},
   "outputs": [
    {
     "data": {
      "text/plain": [
       "1"
      ]
     },
     "execution_count": 70,
     "metadata": {},
     "output_type": "execute_result"
    }
   ],
   "source": [
    "a.pop()"
   ]
  },
  {
   "cell_type": "markdown",
   "id": "1220de81",
   "metadata": {},
   "source": [
    "### F. copy()"
   ]
  },
  {
   "cell_type": "markdown",
   "id": "767d6914",
   "metadata": {},
   "source": [
    "* Returns a shallow copy of the set"
   ]
  },
  {
   "cell_type": "code",
   "execution_count": 71,
   "id": "0b2718f6",
   "metadata": {},
   "outputs": [
    {
     "data": {
      "text/plain": [
       "{2, 3, 4, 5}"
      ]
     },
     "execution_count": 71,
     "metadata": {},
     "output_type": "execute_result"
    }
   ],
   "source": [
    "a"
   ]
  },
  {
   "cell_type": "code",
   "execution_count": 72,
   "id": "1e0661ca",
   "metadata": {},
   "outputs": [],
   "source": [
    "b=a.copy()"
   ]
  },
  {
   "cell_type": "code",
   "execution_count": 73,
   "id": "4dff7ebb",
   "metadata": {},
   "outputs": [
    {
     "name": "stdout",
     "output_type": "stream",
     "text": [
      "{2, 3, 4, 5} 1847937169696\n",
      "{2, 3, 4, 5} 1847937168576\n"
     ]
    }
   ],
   "source": [
    "print(a, id(a))\n",
    "print(b, id(b))"
   ]
  },
  {
   "cell_type": "markdown",
   "id": "80efacdd",
   "metadata": {},
   "source": [
    "### G. Clear()"
   ]
  },
  {
   "cell_type": "markdown",
   "id": "0f2b480b",
   "metadata": {},
   "source": [
    "* Removes all elements from the set"
   ]
  },
  {
   "cell_type": "code",
   "execution_count": 74,
   "id": "d8b0f08f",
   "metadata": {},
   "outputs": [
    {
     "data": {
      "text/plain": [
       "{2, 3, 4, 5}"
      ]
     },
     "execution_count": 74,
     "metadata": {},
     "output_type": "execute_result"
    }
   ],
   "source": [
    "a"
   ]
  },
  {
   "cell_type": "code",
   "execution_count": 75,
   "id": "8bfd6ad9",
   "metadata": {},
   "outputs": [],
   "source": [
    "a.clear()"
   ]
  },
  {
   "cell_type": "code",
   "execution_count": 76,
   "id": "ec034db7",
   "metadata": {},
   "outputs": [
    {
     "data": {
      "text/plain": [
       "set()"
      ]
     },
     "execution_count": 76,
     "metadata": {},
     "output_type": "execute_result"
    }
   ],
   "source": [
    "a"
   ]
  },
  {
   "cell_type": "code",
   "execution_count": null,
   "id": "ff8f89b0",
   "metadata": {},
   "outputs": [],
   "source": []
  }
 ],
 "metadata": {
  "kernelspec": {
   "display_name": "Python 3 (ipykernel)",
   "language": "python",
   "name": "python3"
  },
  "language_info": {
   "codemirror_mode": {
    "name": "ipython",
    "version": 3
   },
   "file_extension": ".py",
   "mimetype": "text/x-python",
   "name": "python",
   "nbconvert_exporter": "python",
   "pygments_lexer": "ipython3",
   "version": "3.11.3"
  }
 },
 "nbformat": 4,
 "nbformat_minor": 5
}
