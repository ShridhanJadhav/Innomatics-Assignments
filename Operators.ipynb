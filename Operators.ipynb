{
 "cells": [
  {
   "cell_type": "markdown",
   "id": "abbf98ef",
   "metadata": {},
   "source": [
    "# <center> <u> Operators </u> <center>"
   ]
  },
  {
   "cell_type": "markdown",
   "id": "b4f81355",
   "metadata": {},
   "source": [
    "## <u> 1. Arithmetic operators <U>"
   ]
  },
  {
   "cell_type": "code",
   "execution_count": 5,
   "id": "cb0144e3",
   "metadata": {},
   "outputs": [
    {
     "name": "stdout",
     "output_type": "stream",
     "text": [
      "5\n",
      "1\n",
      "6\n",
      "1.5\n",
      "1\n",
      "1\n",
      "9\n"
     ]
    }
   ],
   "source": [
    "print (3+2) # addition\n",
    "print (3-2) # substraction\n",
    "print (3*2) # multiplication\n",
    "print (3/2) # division (pure division)\n",
    "print (3//2) # division (floor division)\n",
    "print (3%2) # get modulous\n",
    "print (3**2) # power"
   ]
  },
  {
   "cell_type": "markdown",
   "id": "8a4f7f67",
   "metadata": {},
   "source": [
    "## <u> 2. Comparison operators </u>"
   ]
  },
  {
   "cell_type": "code",
   "execution_count": 6,
   "id": "5d15981e",
   "metadata": {},
   "outputs": [],
   "source": [
    "x,y = (10,15)"
   ]
  },
  {
   "cell_type": "code",
   "execution_count": 12,
   "id": "42544e52",
   "metadata": {},
   "outputs": [
    {
     "name": "stdout",
     "output_type": "stream",
     "text": [
      "False\n",
      "True\n",
      "True\n",
      "False\n",
      "True\n",
      "False\n"
     ]
    }
   ],
   "source": [
    "print (x == y) # equals to\n",
    "print (x != y) # not equals to\n",
    "print (x < y) # less than\n",
    "print (x > y) # greater than\n",
    "print (x <= y) # less than and equals to\n",
    "print (x >= y) # greater than and equals to"
   ]
  },
  {
   "cell_type": "markdown",
   "id": "90433584",
   "metadata": {},
   "source": [
    "## <u> 3. Identity operators </u>"
   ]
  },
  {
   "cell_type": "code",
   "execution_count": 19,
   "id": "494e9279",
   "metadata": {},
   "outputs": [],
   "source": [
    "#Identity operaters are used to compare the objects if both the objects are actually of the same data type and share the same memory location \"\"\""
   ]
  },
  {
   "cell_type": "code",
   "execution_count": 21,
   "id": "873a6a99",
   "metadata": {},
   "outputs": [],
   "source": [
    "a = 'shri'\n",
    "b = 'shri'\n",
    "c = [1,2,3]\n",
    "d = [1,2,3]"
   ]
  },
  {
   "cell_type": "code",
   "execution_count": 23,
   "id": "0cca4860",
   "metadata": {},
   "outputs": [
    {
     "name": "stdout",
     "output_type": "stream",
     "text": [
      "True\n",
      "False\n"
     ]
    }
   ],
   "source": [
    "print (a is b) \n",
    "print (c is d)"
   ]
  },
  {
   "cell_type": "markdown",
   "id": "bfde7718",
   "metadata": {},
   "source": [
    "## <u> 4. Logical operators </u>"
   ]
  },
  {
   "cell_type": "code",
   "execution_count": 28,
   "id": "c1623062",
   "metadata": {},
   "outputs": [
    {
     "name": "stdout",
     "output_type": "stream",
     "text": [
      "True\n",
      "False\n",
      "False\n",
      "False\n"
     ]
    }
   ],
   "source": [
    "# Logical AND\n",
    "x = 5\n",
    "print (x>3 and x<10)\n",
    "print (x>3 and x<3)\n",
    "print (x>6 and x<10)\n",
    "print (x>6 and x<3)"
   ]
  },
  {
   "cell_type": "code",
   "execution_count": 36,
   "id": "980ecc67",
   "metadata": {},
   "outputs": [
    {
     "name": "stdout",
     "output_type": "stream",
     "text": [
      "True\n",
      "True\n",
      "True\n",
      "False\n"
     ]
    }
   ],
   "source": [
    "x = 5\n",
    "print (x>3 or x<6)\n",
    "print (x>3 or x<4)\n",
    "print (x>6 or x<6)\n",
    "print (x>6 or x<4)"
   ]
  },
  {
   "cell_type": "markdown",
   "id": "e247f812",
   "metadata": {},
   "source": [
    "# <u> 5. Membership operators </U>"
   ]
  },
  {
   "cell_type": "code",
   "execution_count": 1,
   "id": "a972acb7",
   "metadata": {},
   "outputs": [],
   "source": [
    "# Membership operators are used to test if a sequence is presented in an object\n",
    "\n"
   ]
  },
  {
   "cell_type": "code",
   "execution_count": 2,
   "id": "90d221ad",
   "metadata": {},
   "outputs": [
    {
     "data": {
      "text/plain": [
       "True"
      ]
     },
     "execution_count": 2,
     "metadata": {},
     "output_type": "execute_result"
    }
   ],
   "source": [
    "1 in [1,2,3] # the 'in' operator is used to check if a value exists in a sequence or not."
   ]
  },
  {
   "cell_type": "code",
   "execution_count": 3,
   "id": "b2eb083e",
   "metadata": {},
   "outputs": [
    {
     "data": {
      "text/plain": [
       "True"
      ]
     },
     "execution_count": 3,
     "metadata": {},
     "output_type": "execute_result"
    }
   ],
   "source": [
    "4 not in [1,2,3]"
   ]
  },
  {
   "cell_type": "code",
   "execution_count": 6,
   "id": "3d0644dc",
   "metadata": {},
   "outputs": [
    {
     "data": {
      "text/plain": [
       "False"
      ]
     },
     "execution_count": 6,
     "metadata": {},
     "output_type": "execute_result"
    }
   ],
   "source": [
    "4 in [1,2,3]"
   ]
  },
  {
   "cell_type": "markdown",
   "id": "9e7e1ff9",
   "metadata": {},
   "source": [
    "# <u> 6. Bitwise Operators </u>"
   ]
  },
  {
   "cell_type": "code",
   "execution_count": 8,
   "id": "887a890d",
   "metadata": {},
   "outputs": [
    {
     "data": {
      "text/plain": [
       "' Bitwise operators are used to perform bitwise calculations on integers. The integers are first converted into binary and \\nthen operations are performed on each bit or corresponding pair of bits, hence the name bitwise operators.'"
      ]
     },
     "execution_count": 8,
     "metadata": {},
     "output_type": "execute_result"
    }
   ],
   "source": [
    "\"\"\" Bitwise operators are used to perform bitwise calculations on integers. The integers are first converted into binary and \n",
    "then operations are performed on each bit or corresponding pair of bits, hence the name bitwise operators.\"\"\" "
   ]
  },
  {
   "cell_type": "markdown",
   "id": "978791b2",
   "metadata": {},
   "source": [
    "#### A. Bitwise & (AND)"
   ]
  },
  {
   "cell_type": "markdown",
   "id": "465ad31f",
   "metadata": {},
   "source": [
    "#### X Y --> X&Y\n",
    "#### 0 0 --> 0\n",
    "#### 0 1 --> 0\n",
    "#### 1 0 --> 0\n",
    "#### 1 1 --> 1"
   ]
  },
  {
   "cell_type": "code",
   "execution_count": 52,
   "id": "b792a61f",
   "metadata": {},
   "outputs": [],
   "source": [
    "a=4 #0b100\n",
    "b=5 #0b101"
   ]
  },
  {
   "cell_type": "code",
   "execution_count": 54,
   "id": "9b62532b",
   "metadata": {},
   "outputs": [
    {
     "name": "stdout",
     "output_type": "stream",
     "text": [
      "4\n"
     ]
    }
   ],
   "source": [
    "print (a&b) #0b100"
   ]
  },
  {
   "cell_type": "markdown",
   "id": "1aa0ab52",
   "metadata": {},
   "source": [
    "#### B. Bitwise | (OR)"
   ]
  },
  {
   "cell_type": "markdown",
   "id": "fa15a00e",
   "metadata": {},
   "source": [
    "#### X Y --> X&Y\n",
    "#### 0 0 --> 0\n",
    "#### 0 1 --> 1\n",
    "#### 1 0 --> 1\n",
    "#### 1 1 --> 1"
   ]
  },
  {
   "cell_type": "code",
   "execution_count": 3,
   "id": "6bfd220b",
   "metadata": {},
   "outputs": [],
   "source": [
    "a=4\n",
    "b=5"
   ]
  },
  {
   "cell_type": "code",
   "execution_count": 27,
   "id": "5191ca5c",
   "metadata": {},
   "outputs": [
    {
     "name": "stdout",
     "output_type": "stream",
     "text": [
      "5\n"
     ]
    }
   ],
   "source": [
    "print(a|b)"
   ]
  },
  {
   "cell_type": "markdown",
   "id": "5958b685",
   "metadata": {},
   "source": [
    "#### C. Bitwise XOR"
   ]
  },
  {
   "cell_type": "markdown",
   "id": "a29e1df0",
   "metadata": {},
   "source": [
    "#### X Y --> X&Y\n",
    "#### 0 0 --> 0\n",
    "#### 0 1 --> 1\n",
    "#### 1 0 --> 1\n",
    "#### 1 1 --> 0"
   ]
  },
  {
   "cell_type": "code",
   "execution_count": 55,
   "id": "5741e449",
   "metadata": {},
   "outputs": [],
   "source": [
    "a=4\n",
    "b=5"
   ]
  },
  {
   "cell_type": "code",
   "execution_count": 11,
   "id": "35028ba3",
   "metadata": {},
   "outputs": [
    {
     "name": "stdout",
     "output_type": "stream",
     "text": [
      "1\n"
     ]
    }
   ],
   "source": [
    "print(a^b)"
   ]
  },
  {
   "cell_type": "markdown",
   "id": "7eb1a9e5",
   "metadata": {},
   "source": [
    "#### D. Bitwise negation"
   ]
  },
  {
   "cell_type": "markdown",
   "id": "f657725c",
   "metadata": {},
   "source": [
    "#### ~x = -(x+1)"
   ]
  },
  {
   "cell_type": "code",
   "execution_count": 14,
   "id": "26fcff45",
   "metadata": {},
   "outputs": [],
   "source": [
    "a=4\n",
    "b=5"
   ]
  },
  {
   "cell_type": "code",
   "execution_count": 56,
   "id": "77d4a29c",
   "metadata": {},
   "outputs": [
    {
     "name": "stdout",
     "output_type": "stream",
     "text": [
      "-5\n"
     ]
    }
   ],
   "source": [
    "print(~a) # x= -(4+1)"
   ]
  },
  {
   "cell_type": "code",
   "execution_count": 29,
   "id": "e156dfa0",
   "metadata": {},
   "outputs": [
    {
     "name": "stdout",
     "output_type": "stream",
     "text": [
      "-6\n"
     ]
    }
   ],
   "source": [
    "print(~b)"
   ]
  },
  {
   "cell_type": "markdown",
   "id": "dbb51793",
   "metadata": {},
   "source": [
    "#### E. Bitwise Left shift"
   ]
  },
  {
   "cell_type": "code",
   "execution_count": 18,
   "id": "2e87454d",
   "metadata": {},
   "outputs": [],
   "source": [
    "a=4\n",
    "b=5\n"
   ]
  },
  {
   "cell_type": "code",
   "execution_count": 26,
   "id": "7d1dab5d",
   "metadata": {},
   "outputs": [
    {
     "name": "stdout",
     "output_type": "stream",
     "text": [
      "16\n"
     ]
    }
   ],
   "source": [
    "print(a<<2)"
   ]
  },
  {
   "cell_type": "code",
   "execution_count": 25,
   "id": "138b0a0a",
   "metadata": {},
   "outputs": [
    {
     "name": "stdout",
     "output_type": "stream",
     "text": [
      "40\n"
     ]
    }
   ],
   "source": [
    "print(b<<3)"
   ]
  },
  {
   "cell_type": "markdown",
   "id": "3877af15",
   "metadata": {},
   "source": [
    "#### F. Bitwise Right shift"
   ]
  },
  {
   "cell_type": "code",
   "execution_count": 22,
   "id": "7413a0f4",
   "metadata": {},
   "outputs": [],
   "source": [
    "a=4\n",
    "b=5"
   ]
  },
  {
   "cell_type": "code",
   "execution_count": 24,
   "id": "345f6704",
   "metadata": {},
   "outputs": [
    {
     "name": "stdout",
     "output_type": "stream",
     "text": [
      "1\n"
     ]
    }
   ],
   "source": [
    "print (a>>2)"
   ]
  },
  {
   "cell_type": "code",
   "execution_count": 30,
   "id": "3c8ec74d",
   "metadata": {},
   "outputs": [
    {
     "name": "stdout",
     "output_type": "stream",
     "text": [
      "0\n"
     ]
    }
   ],
   "source": [
    "print(b>>3)"
   ]
  },
  {
   "cell_type": "markdown",
   "id": "5c640852",
   "metadata": {},
   "source": [
    "## 7. Assignment Operator"
   ]
  },
  {
   "cell_type": "code",
   "execution_count": 32,
   "id": "d117c88d",
   "metadata": {},
   "outputs": [],
   "source": [
    "# Assignment Operators are used to assigning values to variables. "
   ]
  },
  {
   "cell_type": "markdown",
   "id": "d851367a",
   "metadata": {},
   "source": [
    "#### A. Assign"
   ]
  },
  {
   "cell_type": "code",
   "execution_count": 34,
   "id": "b12f38c5",
   "metadata": {},
   "outputs": [],
   "source": [
    "a=4\n",
    "b=5"
   ]
  },
  {
   "cell_type": "code",
   "execution_count": 35,
   "id": "5d22449b",
   "metadata": {},
   "outputs": [
    {
     "name": "stdout",
     "output_type": "stream",
     "text": [
      "6\n"
     ]
    }
   ],
   "source": [
    "a=a+2\n",
    "print(a)"
   ]
  },
  {
   "cell_type": "code",
   "execution_count": 36,
   "id": "3c38f22b",
   "metadata": {},
   "outputs": [
    {
     "name": "stdout",
     "output_type": "stream",
     "text": [
      "6\n"
     ]
    }
   ],
   "source": [
    "b=b+2\n",
    "print(a)"
   ]
  },
  {
   "cell_type": "markdown",
   "id": "9fc2acfd",
   "metadata": {},
   "source": [
    "#### B. Add And assign"
   ]
  },
  {
   "cell_type": "code",
   "execution_count": 45,
   "id": "3697baba",
   "metadata": {},
   "outputs": [],
   "source": [
    "a=4\n",
    "b=5"
   ]
  },
  {
   "cell_type": "code",
   "execution_count": 42,
   "id": "005ad5bc",
   "metadata": {},
   "outputs": [
    {
     "name": "stdout",
     "output_type": "stream",
     "text": [
      "6\n"
     ]
    }
   ],
   "source": [
    "a+=2\n",
    "print(a)"
   ]
  },
  {
   "cell_type": "code",
   "execution_count": 46,
   "id": "1695547a",
   "metadata": {},
   "outputs": [
    {
     "name": "stdout",
     "output_type": "stream",
     "text": [
      "7\n"
     ]
    }
   ],
   "source": [
    "b+=2\n",
    "print(b)"
   ]
  },
  {
   "cell_type": "markdown",
   "id": "ef6d6a75",
   "metadata": {},
   "source": [
    "#### C. Substract and assign"
   ]
  },
  {
   "cell_type": "code",
   "execution_count": 98,
   "id": "3e0a42bb",
   "metadata": {},
   "outputs": [],
   "source": [
    "a=4\n",
    "b=5"
   ]
  },
  {
   "cell_type": "code",
   "execution_count": 99,
   "id": "a8ab9bf5",
   "metadata": {},
   "outputs": [
    {
     "name": "stdout",
     "output_type": "stream",
     "text": [
      "-1\n"
     ]
    }
   ],
   "source": [
    "a-=b\n",
    "print(a)"
   ]
  },
  {
   "cell_type": "markdown",
   "id": "2b6848aa",
   "metadata": {},
   "source": [
    "#### D. Multiply and assign"
   ]
  },
  {
   "cell_type": "code",
   "execution_count": 87,
   "id": "f8d70d6c",
   "metadata": {},
   "outputs": [],
   "source": [
    "a=4\n",
    "b=5"
   ]
  },
  {
   "cell_type": "code",
   "execution_count": 88,
   "id": "89d40fbe",
   "metadata": {},
   "outputs": [
    {
     "name": "stdout",
     "output_type": "stream",
     "text": [
      "20\n"
     ]
    }
   ],
   "source": [
    "a*=b\n",
    "print(a)"
   ]
  },
  {
   "cell_type": "markdown",
   "id": "3cfc2392",
   "metadata": {},
   "source": [
    "#### E. Divide and assign (pure division)"
   ]
  },
  {
   "cell_type": "code",
   "execution_count": 89,
   "id": "6c1b8bf9",
   "metadata": {},
   "outputs": [],
   "source": [
    "a=4\n",
    "b=5"
   ]
  },
  {
   "cell_type": "code",
   "execution_count": 90,
   "id": "69d7787d",
   "metadata": {},
   "outputs": [
    {
     "name": "stdout",
     "output_type": "stream",
     "text": [
      "0.8\n"
     ]
    }
   ],
   "source": [
    "a/=b\n",
    "print(a)"
   ]
  },
  {
   "cell_type": "markdown",
   "id": "484208c9",
   "metadata": {},
   "source": [
    "#### F. Divide and assign (floor division)"
   ]
  },
  {
   "cell_type": "code",
   "execution_count": 100,
   "id": "93314426",
   "metadata": {},
   "outputs": [],
   "source": [
    "a=4\n",
    "b=5"
   ]
  },
  {
   "cell_type": "code",
   "execution_count": 101,
   "id": "7ef36b22",
   "metadata": {},
   "outputs": [
    {
     "name": "stdout",
     "output_type": "stream",
     "text": [
      "0\n"
     ]
    }
   ],
   "source": [
    "a//=b\n",
    "print(a)"
   ]
  },
  {
   "cell_type": "markdown",
   "id": "638c853d",
   "metadata": {},
   "source": [
    "#### G. Modulous and assign"
   ]
  },
  {
   "cell_type": "code",
   "execution_count": 102,
   "id": "52f65cda",
   "metadata": {},
   "outputs": [],
   "source": [
    "a=16\n",
    "b=5"
   ]
  },
  {
   "cell_type": "code",
   "execution_count": 103,
   "id": "8b2353c4",
   "metadata": {},
   "outputs": [
    {
     "name": "stdout",
     "output_type": "stream",
     "text": [
      "1\n"
     ]
    }
   ],
   "source": [
    "a%=b\n",
    "print(a)"
   ]
  },
  {
   "cell_type": "markdown",
   "id": "d973b5ab",
   "metadata": {},
   "source": [
    "#### H.Bitwise & and assign"
   ]
  },
  {
   "cell_type": "code",
   "execution_count": 106,
   "id": "f20b2ae2",
   "metadata": {},
   "outputs": [],
   "source": [
    "a=4\n",
    "b=5"
   ]
  },
  {
   "cell_type": "code",
   "execution_count": 107,
   "id": "29336c6f",
   "metadata": {},
   "outputs": [
    {
     "name": "stdout",
     "output_type": "stream",
     "text": [
      "4\n"
     ]
    }
   ],
   "source": [
    "a&=b\n",
    "print(a)"
   ]
  },
  {
   "cell_type": "markdown",
   "id": "08a57b74",
   "metadata": {},
   "source": [
    "#### I.Bitwise | (OR) and assign"
   ]
  },
  {
   "cell_type": "code",
   "execution_count": 108,
   "id": "c67a1251",
   "metadata": {},
   "outputs": [],
   "source": [
    "a=4\n",
    "b=5"
   ]
  },
  {
   "cell_type": "code",
   "execution_count": 110,
   "id": "32a8d828",
   "metadata": {},
   "outputs": [
    {
     "name": "stdout",
     "output_type": "stream",
     "text": [
      "5\n"
     ]
    }
   ],
   "source": [
    "a|=b\n",
    "print(a)"
   ]
  },
  {
   "cell_type": "markdown",
   "id": "f24591be",
   "metadata": {},
   "source": [
    "#### J. Bitwise XOR and assign"
   ]
  },
  {
   "cell_type": "code",
   "execution_count": 114,
   "id": "ea9e900d",
   "metadata": {},
   "outputs": [],
   "source": [
    "a=4\n",
    "b=5"
   ]
  },
  {
   "cell_type": "code",
   "execution_count": 115,
   "id": "71bebd33",
   "metadata": {},
   "outputs": [
    {
     "name": "stdout",
     "output_type": "stream",
     "text": [
      "1\n"
     ]
    }
   ],
   "source": [
    "a^=b\n",
    "print(a)"
   ]
  },
  {
   "cell_type": "markdown",
   "id": "0dd8e24c",
   "metadata": {},
   "source": [
    "#### K. Bitwise left shift and assign"
   ]
  },
  {
   "cell_type": "code",
   "execution_count": 116,
   "id": "e364793a",
   "metadata": {},
   "outputs": [],
   "source": [
    "a=4\n",
    "b=5"
   ]
  },
  {
   "cell_type": "code",
   "execution_count": 117,
   "id": "19754a5d",
   "metadata": {},
   "outputs": [
    {
     "name": "stdout",
     "output_type": "stream",
     "text": [
      "128\n"
     ]
    }
   ],
   "source": [
    "a<<=b\n",
    "print(a)"
   ]
  },
  {
   "cell_type": "markdown",
   "id": "e02f0a5d",
   "metadata": {},
   "source": [
    "#### L. Bitwise right shift and assign"
   ]
  },
  {
   "cell_type": "code",
   "execution_count": 118,
   "id": "dfc4d43c",
   "metadata": {},
   "outputs": [],
   "source": [
    "a=4\n",
    "b=5"
   ]
  },
  {
   "cell_type": "code",
   "execution_count": 119,
   "id": "f726ee93",
   "metadata": {},
   "outputs": [
    {
     "name": "stdout",
     "output_type": "stream",
     "text": [
      "0\n"
     ]
    }
   ],
   "source": [
    "a>>=b\n",
    "print(a)"
   ]
  },
  {
   "cell_type": "code",
   "execution_count": null,
   "id": "84ee134d",
   "metadata": {},
   "outputs": [],
   "source": []
  }
 ],
 "metadata": {
  "kernelspec": {
   "display_name": "Python 3 (ipykernel)",
   "language": "python",
   "name": "python3"
  },
  "language_info": {
   "codemirror_mode": {
    "name": "ipython",
    "version": 3
   },
   "file_extension": ".py",
   "mimetype": "text/x-python",
   "name": "python",
   "nbconvert_exporter": "python",
   "pygments_lexer": "ipython3",
   "version": "3.11.3"
  }
 },
 "nbformat": 4,
 "nbformat_minor": 5
}
